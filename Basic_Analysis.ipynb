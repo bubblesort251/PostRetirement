{
 "cells": [
  {
   "cell_type": "code",
   "execution_count": 1,
   "metadata": {},
   "outputs": [],
   "source": [
    "import pandas as pd\n",
    "import numpy as np\n",
    "import scenario_simulation as ss\n",
    "import longevity_lib as long\n",
    "import matplotlib.pyplot as plt\n",
    "import tontine as ton\n",
    "import importlib as imp\n",
    "import strategies as strat"
   ]
  },
  {
   "cell_type": "markdown",
   "metadata": {},
   "source": [
    "# Define Normal and Crash Period Assumptions"
   ]
  },
  {
   "cell_type": "code",
   "execution_count": 2,
   "metadata": {},
   "outputs": [],
   "source": [
    "r_n = pd.read_csv('Data/normal_expected_returns.csv')\n",
    "asset_columns = list(r_n.columns)\n",
    "r_n = r_n.values[0]\n",
    "\n",
    "r_c = pd.read_csv('Data/crash_expected_returns.csv').values[0]\n",
    "Q_n = pd.read_csv('Data/normal_covariance.csv')\n",
    "Q_c = pd.read_csv('Data/crash_covariance.csv')\n",
    "del Q_n['Unnamed: 0']\n",
    "del Q_c['Unnamed: 0']\n",
    "\n",
    "Q_n = Q_n.values[0:9, 0:9]\n",
    "Q_c = Q_c.values[0:9, 0:9]\n",
    "P = [[.984, .016], [.09, .91]]"
   ]
  },
  {
   "cell_type": "code",
   "execution_count": 3,
   "metadata": {},
   "outputs": [],
   "source": [
    "age_0 = 72\n",
    "nscen = 100"
   ]
  },
  {
   "cell_type": "code",
   "execution_count": 4,
   "metadata": {},
   "outputs": [],
   "source": [
    "scenarios = ss.gen_scenarios(nscen, age_0, r_n, Q_n, P, r_c, Q_c)"
   ]
  },
  {
   "cell_type": "markdown",
   "metadata": {},
   "source": [
    "# Generate Macro economic Variables"
   ]
  },
  {
   "cell_type": "code",
   "execution_count": 5,
   "metadata": {},
   "outputs": [
    {
     "data": {
      "image/png": "[encoded data removed]",
      "text/plain": [
       "<Figure size 432x288 with 1 Axes>"
      ]
     },
     "metadata": {
      "needs_background": "light"
     },
     "output_type": "display_data"
    }
   ],
   "source": [
    "mu_int =  1.59/100# Bond Mean\n",
    "sig_int =  1.53/100# Bond Volatility\n",
    "mu_inf = 2.00/100 + 1 #Stand in inflation\n",
    "sig_inf = 1.53/100 #Stand in volatility\n",
    "\n",
    "\n",
    "# Mean−reverting example\n",
    "n_years = 120 - age_0\n",
    "interest_vec = np.ones(n_years) * 0.001\n",
    "inflation_vec = np.ones(n_years) * 1.0123\n",
    "\n",
    "for i in range(n_years-1):\n",
    "    interest_vec[i+1] = interest_vec[i] + 0.5*(mu_int-interest_vec[i]) + sig_int*np.sqrt(\n",
    "        interest_vec[i])*np.random.randn(1)\n",
    "    if interest_vec[i+1]<=0: # No negative rate\n",
    "        interest_vec[i+1] = 0\n",
    "    inflation_vec[i+1] = inflation_vec[i] + 0.5*(mu_inf-inflation_vec[i]) + sig_inf*np.random.randn(1)\n",
    "    \n",
    "    \n",
    "plt.plot(interest_vec,label='Interest Rate')\n",
    "plt.plot(inflation_vec - 1,label='Inflation')\n",
    "plt.legend(loc='best')\n",
    "plt.xlabel('Years')\n",
    "plt.title('Sample Simulated Macro Variables')\n",
    "plt.savefig('Analysis/macro.png')\n",
    "plt.show()\n",
    "# Generate macro variables for 10,000 scenarios\n",
    "inf_mat = np.zeros((nscen, n_years))\n",
    "ir_mat = np.zeros((nscen, n_years))\n",
    "\n",
    "for j in range(nscen):\n",
    "    np.random.seed(j)\n",
    "    interest_vec = np.ones(n_years) * 0.001\n",
    "    inflation_vec = np.ones(n_years) * 1.0123\n",
    "    for i in range(n_years-1):\n",
    "        interest_vec[i+1] = interest_vec[i] + 0.5*(mu_int-interest_vec[i]) + sig_int*np.sqrt(interest_vec[i])*np.random.randn(1)\n",
    "        if interest_vec[i+1]<=0: # No negative rate\n",
    "            interest_vec[i+1] = 0\n",
    "        inflation_vec[i+1] = inflation_vec[i] + 0.5*(mu_inf-inflation_vec[i]) + sig_inf*np.random.randn(1)\n",
    "\n",
    "    inf_mat[j,:] = inflation_vec-1\n",
    "    ir_mat[j ,:] = interest_vec\n"
   ]
  },
  {
   "cell_type": "code",
   "execution_count": 6,
   "metadata": {},
   "outputs": [],
   "source": [
    "mortality_table = pd.read_csv('Data/Mortality_Table.csv', index_col='Exact Age')"
   ]
  },
  {
   "cell_type": "code",
   "execution_count": 7,
   "metadata": {},
   "outputs": [],
   "source": [
    "m_mortality = mortality_table['Death Probability Male'].to_numpy()\n",
    "f_mortality = mortality_table['Death Probability Female'].to_numpy()"
   ]
  },
  {
   "cell_type": "code",
   "execution_count": 8,
   "metadata": {},
   "outputs": [],
   "source": [
    "longevity = long.longevity_n(nscen, age_0, m_mortality)"
   ]
  },
  {
   "cell_type": "code",
   "execution_count": 9,
   "metadata": {},
   "outputs": [
    {
     "data": {
      "text/plain": [
       "array([ 86.,  85.,  88.,  91.,  73.,  92.,  83.,  79.,  89.,  88.,  84.,\n",
       "        88.,  89.,  73.,  79.,  92.,  83.,  77.,  98.,  90.,  81.,  86.,\n",
       "        88.,  94.,  90.,  88.,  86.,  89.,  92.,  77.,  73.,  80.,  77.,\n",
       "        95.,  83.,  83.,  80.,  93.,  85.,  84.,  93.,  94.,  97., 101.,\n",
       "        96.,  92.,  79.,  86.,  95.,  84.,  81., 107.,  91.,  73.,  74.,\n",
       "        97.,  89.,  75.,  84.,  76.,  88.,  77.,  92.,  96.,  84.,  91.,\n",
       "        85.,  79.,  80.,  97.,  95.,  89.,  82.,  84.,  90.,  85.,  93.,\n",
       "        88.,  88.,  84.,  84.,  76.,  72.,  83.,  85.,  87.,  93.,  72.,\n",
       "        72.,  95.,  83.,  91.,  79.,  79.,  89.,  88.,  78.,  86.,  84.,\n",
       "        86.])"
      ]
     },
     "execution_count": 9,
     "metadata": {},
     "output_type": "execute_result"
    }
   ],
   "source": [
    "longevity"
   ]
  },
  {
   "cell_type": "markdown",
   "metadata": {},
   "source": [
    "# Run Basic Tontine"
   ]
  },
  {
   "cell_type": "code",
   "execution_count": 10,
   "metadata": {},
   "outputs": [],
   "source": [
    "pmale = 1046/(1046+1000) # probability of being born a male \n",
    "tontine_n = 1000\n",
    "w_0 = 1000000\n",
    "mortality_rates = [m_mortality, f_mortality]\n",
    "tontine_payouts = ton.tontine(w_0*tontine_n,tontine_n,longevity,mortality_rates,pmale,age_0,ir_mat)\n",
    "\n",
    "longevity30 = np.ones(nscen)*(age_0 + 30)\n",
    "tontine_payouts_30 = ton.tontine(w_0*tontine_n,tontine_n, longevity30, mortality_rates, pmale, age_0,ir_mat)"
   ]
  },
  {
   "cell_type": "code",
   "execution_count": 11,
   "metadata": {},
   "outputs": [
    {
     "data": {
      "image/png": "[encoded data removed]",
      "text/plain": [
       "<Figure size 432x288 with 1 Axes>"
      ]
     },
     "metadata": {
      "needs_background": "light"
     },
     "output_type": "display_data"
    },
    {
     "data": {
      "text/plain": [
       "<Figure size 432x288 with 0 Axes>"
      ]
     },
     "metadata": {},
     "output_type": "display_data"
    }
   ],
   "source": [
    "mean_payout_tontine = []\n",
    "for i in range(len(tontine_payouts[0])):\n",
    "    boolArr = tontine_payouts[:,i] != None\n",
    "    temp_payout = tontine_payouts[boolArr,i]\n",
    "    if temp_payout.size != 0:\n",
    "        mean_payout_tontine.append(np.mean(temp_payout))\n",
    "\n",
    "payout_frac = np.array(mean_payout_tontine)/w_0\n",
    "ages = np.arange(age_0, len(payout_frac)+age_0)\n",
    "plt.bar(ages, payout_frac)\n",
    "plt.title('Payout as a Portion of Contribution to Tontine')\n",
    "plt.xlabel('Age')\n",
    "plt.ylabel('Portion of Contribution')\n",
    "plt.show()\n",
    "plt.savefig('Analysis/payout_tontine.png')\n"
   ]
  },
  {
   "cell_type": "code",
   "execution_count": 12,
   "metadata": {},
   "outputs": [],
   "source": [
    "# average amount withdrawn over 30 years\n",
    "total_tontine_30 = np.mean(np.sum(tontine_payouts_30,axis = 1))\n",
    "\n",
    "# average portion of contribution withdrawn each year over 30 years\n",
    "mean_payout_tontine_30 = []\n",
    "for i in range(len(tontine_payouts_30[0])):\n",
    "    boolArr = tontine_payouts_30[:,i] != None\n",
    "    temp_payout = tontine_payouts_30[boolArr,i]\n",
    "    if temp_payout.size != 0:\n",
    "        mean_payout_tontine_30.append(np.mean(temp_payout))\n",
    "payout_frac_30 = np.array(mean_payout_tontine_30)/w_0\n",
    "tontine_withdraw = np.mean(payout_frac_30)\n"
   ]
  },
  {
   "cell_type": "code",
   "execution_count": 13,
   "metadata": {},
   "outputs": [],
   "source": [
    "# average amount withdrawn\n",
    "total_tontine = 0\n",
    "for i in range(len(tontine_payouts)):\n",
    "    boolArr = tontine_payouts[i,:] != None\n",
    "    temp_payout = tontine_payouts[i,boolArr]\n",
    "    total_tontine += sum(temp_payout)\n",
    "total_tontine = total_tontine/len(tontine_payouts)"
   ]
  },
  {
   "cell_type": "code",
   "execution_count": 14,
   "metadata": {},
   "outputs": [
    {
     "name": "stdout",
     "output_type": "stream",
     "text": [
      "                                                     Tontine\n",
      "Average Annual Withdrawal Amount Across 30 years     37892.8\n",
      "Withdrawal Rate                                    0.0378928\n",
      "Average monthly RoR                               0.00126487\n",
      "Mean wealth after 30 years                              None\n",
      "Volatility of wealth at death                              0\n",
      "Probability of ruin in 30 years                            0\n",
      "Probability of ruin                                        0\n",
      "Magnitude of ruin at 5th percentile                     None\n"
     ]
    }
   ],
   "source": [
    "# average monthly 1yr Tbill return\n",
    "monthly_rf_tontine = ((np.mean(ir_mat)+1)**(1/12)-1)\n",
    "# average annual tontine payout across 30 years\n",
    "annual_avg_tontine = np.mean(np.mean(tontine_payouts_30 , axis = 0))\n",
    "# profile\n",
    "profile_header = ['Average Annual Withdrawal Amount Across 30 years', 'Withdrawal Rate',\n",
    "                  'Average monthly RoR', 'Mean wealth after 30 years',\n",
    "                  'Volatility of wealth at death', 'Probability of ruin in 30 years',\n",
    "                  'Probability of ruin','Magnitude of ruin at 5th percentile']\n",
    "\n",
    "profile_tontine = np.vstack((annual_avg_tontine , tontine_withdraw, monthly_rf_tontine, None, 0, 0, 0, None))\n",
    "df_profile_tontine = pd.DataFrame(profile_tontine, index = profile_header, columns = ['Tontine'])\n",
    "print(df_profile_tontine)"
   ]
  },
  {
   "cell_type": "markdown",
   "metadata": {},
   "source": [
    "# SWR Conservative"
   ]
  },
  {
   "cell_type": "code",
   "execution_count": 15,
   "metadata": {},
   "outputs": [
    {
     "data": {
      "text/plain": [
       "['US Equities',\n",
       " 'EAFE Equities',\n",
       " 'EM Equities',\n",
       " 'Leveraged Treasuries',\n",
       " 'Corp Bonds',\n",
       " 'TIPS(backfilled)',\n",
       " 'Real Estate',\n",
       " 'TSMOMPos',\n",
       " 'T-bill']"
      ]
     },
     "execution_count": 15,
     "metadata": {},
     "output_type": "execute_result"
    }
   ],
   "source": [
    "asset_columns"
   ]
  },
  {
   "cell_type": "code",
   "execution_count": 16,
   "metadata": {},
   "outputs": [
    {
     "name": "stderr",
     "output_type": "stream",
     "text": [
      "/Users/danielthomas/Documents/GitHub/PostRetirement/strategies.py:97: VisibleDeprecationWarning: Creating an ndarray from ragged nested sequences (which is a list-or-tuple of lists-or-tuples-or ndarrays with different lengths or shapes) is deprecated. If you meant to do this, you must specify 'dtype=object' when creating the ndarray\n",
      "  drawdowns = np.array(drawdowns)\n"
     ]
    }
   ],
   "source": [
    "imp.reload(strat)\n",
    "swr = 0.04 # safe withdrawal rate\n",
    "target_swrc = np.array ([[0 , 0, 0, .5, 0, .5, 0, 0, 0]]) .T # conservative : 100% in bonds, 50%-50% bonds\n",
    "n_assets = 9\n",
    "# 30 year time horizon\n",
    "wealth_swrc, avg_returns_swrc, drawdowns_swrc = strat.wealth_path(age_0, scenarios, target_swrc, w_0,\n",
    "                                                                  swr, inf_mat, n_assets, 30+age_0)\n",
    "# uncertain time horizon\n",
    "wealth_long_swrc, avg_returns_long_swrc, drawdowns_long_swrc = strat.wealth_path(age_0, scenarios, target_swrc,\n",
    "                                                                           w_0, swr, inf_mat, n_assets, longevity)\n",
    "# clean wealth\n",
    "med_wealth_swrc = strat.clean_wealth(wealth_swrc)\n",
    "\n"
   ]
  },
  {
   "cell_type": "code",
   "execution_count": 17,
   "metadata": {},
   "outputs": [
    {
     "data": {
      "image/png": "[encoded data removed]",
      "text/plain": [
       "<Figure size 432x288 with 1 Axes>"
      ]
     },
     "metadata": {
      "needs_background": "light"
     },
     "output_type": "display_data"
    }
   ],
   "source": [
    "# plot median wealth path\n",
    "x = np.arange(age_0-(1/12),((len(med_wealth_swrc)-1)/12)+age_0, 1/12)\n",
    "plt.plot(x, med_wealth_swrc, label = 'SWR conservative')\n",
    "\n",
    "plt.vlines(np.median(longevity), min(med_wealth_swrc), max(med_wealth_swrc), label = 'median longevity',\n",
    "           color = 'r')\n",
    "plt.title('Median Wealth for SWR Conservative Strategy')\n",
    "plt.xlabel('Age')\n",
    "plt.ylabel('Wealth ($)')\n",
    "plt.legend()\n",
    "plt.savefig('Analysis/med_wealth_swrc_4.png', bbox_inches='tight')"
   ]
  },
  {
   "cell_type": "code",
   "execution_count": 18,
   "metadata": {},
   "outputs": [
    {
     "data": {
      "image/png": "[encoded data removed]",
      "text/plain": [
       "<Figure size 432x288 with 1 Axes>"
      ]
     },
     "metadata": {
      "needs_background": "light"
     },
     "output_type": "display_data"
    }
   ],
   "source": [
    "# plot withdrawal as a percentage of median portfolio wealth\n",
    "yearly_wealth_swrc = med_wealth_swrc[::12]\n",
    "avg_drawdowns_swrc = np.mean(drawdowns_swrc,axis = 0)\n",
    "ages = np.arange(age_0, len(avg_drawdowns_swrc)+age_0)\n",
    "\n",
    "plt.bar(ages, avg_drawdowns_swrc/yearly_wealth_swrc[:len(avg_drawdowns_swrc)])\n",
    "plt.title('Withdrawal Percentage of Portfolio for SWR Conservative Strategy')\n",
    "plt.xlabel('Age')\n",
    "plt.ylabel('Portion of Portfolio')\n",
    "plt.savefig('withdrawal_swrc_4pct.png', bbox_inches='tight')"
   ]
  },
  {
   "cell_type": "code",
   "execution_count": 22,
   "metadata": {},
   "outputs": [
    {
     "name": "stdout",
     "output_type": "stream",
     "text": [
      "                                                  SWR Conservative 3%\n",
      "Average Annual Withdrawal Amount Across 30 years         53484.016947\n",
      "Withdrawal Rate                                              0.040000\n",
      "Average monthly RoR                                          0.002060\n",
      "Mean wealth after 30 years                             -218820.834227\n",
      "Volatility of wealth at death                           323873.580323\n",
      "Probability of ruin in 30 years                              0.840000\n",
      "Probability of ruin                                          0.050000\n",
      "Magnitude of ruin at 5th percentile                      25562.469876\n"
     ]
    }
   ],
   "source": [
    "imp.reload(strat)\n",
    "percentile = 5\n",
    "ruin_swrc, mag_swrc, mean_w_swrc, std_swrc = strat.profile(age_0, wealth_swrc, 30+age_0, percentile)\n",
    "ruin_long_swrc, mag_long_swrc, mean_long_swrc = strat.p_ruin(age_0, wealth_long_swrc, longevity, percentile)\n",
    "annual_avg_swrc = np.mean(avg_drawdowns_swrc)\n",
    "\n",
    "# profile\n",
    "profile_swrc = np.vstack((annual_avg_swrc, swr, np.mean(avg_returns_swrc), mean_w_swrc, std_swrc,\n",
    "                          ruin_swrc, ruin_long_swrc, mag_long_swrc))\n",
    "\n",
    "df_profile_swrc = pd.DataFrame(profile_swrc, index = profile_header, columns = ['SWR Conservative 3%'])\n",
    "print(df_profile_swrc)"
   ]
  },
  {
   "cell_type": "code",
   "execution_count": null,
   "metadata": {},
   "outputs": [],
   "source": []
  }
 ],
 "metadata": {
  "kernelspec": {
   "display_name": "Python 3",
   "language": "python",
   "name": "python3"
  },
  "language_info": {
   "codemirror_mode": {
    "name": "ipython",
    "version": 3
   },
   "file_extension": ".py",
   "mimetype": "text/x-python",
   "name": "python",
   "nbconvert_exporter": "python",
   "pygments_lexer": "ipython3",
   "version": "3.8.5"
  }
 },
 "nbformat": 4,
 "nbformat_minor": 4
}
