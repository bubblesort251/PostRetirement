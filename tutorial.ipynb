{
 "cells": [
  {
   "cell_type": "markdown",
   "metadata": {},
   "source": [
    "# This notebook should serve as a tutorial for the various libraries I have built to run Tontine Analysis"
   ]
  },
  {
   "cell_type": "code",
   "execution_count": 1,
   "metadata": {},
   "outputs": [],
   "source": [
    "import pandas as pd\n",
    "import numpy as np\n",
    "import longevity_lib as long\n",
    "import matplotlib.pyplot as plt\n",
    "import importlib as imp\n",
    "import latexFormatLib as lf\n",
    "from scipy import stats\n",
    "import scipy\n",
    "import time\n",
    "import numbers\n",
    "import options as opt\n",
    "\n",
    "import stochastic_jump_generator as sjg\n",
    "import self_directed_class as sdc\n",
    "import individual_with_tontine_class as indton\n",
    "import tontine_class as tonclass\n",
    "import portfolio_weight_generator as pfg\n",
    "import tontineCRRALib as efton"
   ]
  },
  {
   "cell_type": "markdown",
   "metadata": {},
   "source": [
    "# I define basic parameters here\n",
    "\n",
    "* age_0: age of retirement\n",
    "* n_scen: number of retirement scenarios"
   ]
  },
  {
   "cell_type": "code",
   "execution_count": 2,
   "metadata": {},
   "outputs": [],
   "source": [
    "age_0 = 65\n",
    "n_scen = 1000"
   ]
  },
  {
   "cell_type": "markdown",
   "metadata": {},
   "source": [
    "# In this tutorial, I generate asset returns via geometric brownian motion using the stochastic_jump_generator library"
   ]
  },
  {
   "cell_type": "code",
   "execution_count": 3,
   "metadata": {},
   "outputs": [
    {
     "data": {
      "text/plain": [
       "Index(['US Equities', 'EAFE Equities', 'EM Equities', 'Leveraged Treasuries',\n",
       "       'Corp Bonds', 'TIPS(backfilled)', 'Real Estate', 'TSMOMPos', 'T-bill'],\n",
       "      dtype='object')"
      ]
     },
     "execution_count": 3,
     "metadata": {},
     "output_type": "execute_result"
    }
   ],
   "source": [
    "single_cov = pd.read_csv('Data/covariance_matrix_real.csv', index_col='Unnamed: 0')\n",
    "asset_names = single_cov.columns\n",
    "asset_names"
   ]
  },
  {
   "cell_type": "markdown",
   "metadata": {},
   "source": [
    "# These are the asset names, below are their expected monthly returns (although given annually and then divided by 12)"
   ]
  },
  {
   "cell_type": "code",
   "execution_count": 4,
   "metadata": {},
   "outputs": [],
   "source": [
    "mean = np.array([3.13, 5.80, 7.19, .02, .69, -.36, 5.58, 1.08, -.90])/100./12."
   ]
  },
  {
   "cell_type": "code",
   "execution_count": 5,
   "metadata": {},
   "outputs": [
    {
     "name": "stdout",
     "output_type": "stream",
     "text": [
      "Gen Run i = 0\n",
      "Gen Run i = 50\n",
      "Gen Run i = 100\n",
      "Gen Run i = 150\n",
      "Gen Run i = 200\n",
      "Gen Run i = 250\n",
      "Gen Run i = 300\n",
      "Gen Run i = 350\n",
      "Gen Run i = 400\n",
      "Gen Run i = 450\n",
      "Gen Run i = 500\n",
      "Gen Run i = 550\n",
      "Gen Run i = 600\n",
      "Gen Run i = 650\n",
      "Gen Run i = 700\n",
      "Gen Run i = 750\n",
      "Gen Run i = 800\n",
      "Gen Run i = 850\n",
      "Gen Run i = 900\n",
      "Gen Run i = 950\n"
     ]
    }
   ],
   "source": [
    "imp.reload(sjg)\n",
    "gbm_dist = sjg.gen_gbm_model(648, n_scen, mean, single_cov)"
   ]
  },
  {
   "cell_type": "markdown",
   "metadata": {},
   "source": [
    "# Load Mortality Table\n",
    "* This is a expected mortality table from the SSA"
   ]
  },
  {
   "cell_type": "code",
   "execution_count": 6,
   "metadata": {},
   "outputs": [],
   "source": [
    "mortality_table = pd.read_csv('Data/Mortality_Table.csv', index_col='Exact Age')\n",
    "m_mortality = mortality_table['Death Probability Male'].to_numpy()\n",
    "f_mortality = mortality_table['Death Probability Female'].to_numpy()"
   ]
  },
  {
   "cell_type": "code",
   "execution_count": 7,
   "metadata": {},
   "outputs": [
    {
     "data": {
      "text/html": [
       "<div>\n",
       "<style scoped>\n",
       "    .dataframe tbody tr th:only-of-type {\n",
       "        vertical-align: middle;\n",
       "    }\n",
       "\n",
       "    .dataframe tbody tr th {\n",
       "        vertical-align: top;\n",
       "    }\n",
       "\n",
       "    .dataframe thead th {\n",
       "        text-align: right;\n",
       "    }\n",
       "</style>\n",
       "<table border=\"1\" class=\"dataframe\">\n",
       "  <thead>\n",
       "    <tr style=\"text-align: right;\">\n",
       "      <th></th>\n",
       "      <th>Death Probability Male</th>\n",
       "      <th>Number of Lives Male</th>\n",
       "      <th>Life Expectancy Male</th>\n",
       "      <th>Death Probability Female</th>\n",
       "      <th>Number of Lives Female</th>\n",
       "      <th>Life Expectancy Female</th>\n",
       "    </tr>\n",
       "    <tr>\n",
       "      <th>Exact Age</th>\n",
       "      <th></th>\n",
       "      <th></th>\n",
       "      <th></th>\n",
       "      <th></th>\n",
       "      <th></th>\n",
       "      <th></th>\n",
       "    </tr>\n",
       "  </thead>\n",
       "  <tbody>\n",
       "    <tr>\n",
       "      <th>0</th>\n",
       "      <td>0.006304</td>\n",
       "      <td>100000</td>\n",
       "      <td>75.97</td>\n",
       "      <td>0.005229</td>\n",
       "      <td>100000</td>\n",
       "      <td>80.96</td>\n",
       "    </tr>\n",
       "    <tr>\n",
       "      <th>1</th>\n",
       "      <td>0.000426</td>\n",
       "      <td>99370</td>\n",
       "      <td>75.45</td>\n",
       "      <td>0.000342</td>\n",
       "      <td>99477</td>\n",
       "      <td>80.39</td>\n",
       "    </tr>\n",
       "    <tr>\n",
       "      <th>2</th>\n",
       "      <td>0.000290</td>\n",
       "      <td>99327</td>\n",
       "      <td>74.48</td>\n",
       "      <td>0.000209</td>\n",
       "      <td>99443</td>\n",
       "      <td>79.42</td>\n",
       "    </tr>\n",
       "    <tr>\n",
       "      <th>3</th>\n",
       "      <td>0.000229</td>\n",
       "      <td>99298</td>\n",
       "      <td>73.50</td>\n",
       "      <td>0.000162</td>\n",
       "      <td>99422</td>\n",
       "      <td>78.43</td>\n",
       "    </tr>\n",
       "    <tr>\n",
       "      <th>4</th>\n",
       "      <td>0.000162</td>\n",
       "      <td>99276</td>\n",
       "      <td>72.52</td>\n",
       "      <td>0.000143</td>\n",
       "      <td>99406</td>\n",
       "      <td>77.45</td>\n",
       "    </tr>\n",
       "  </tbody>\n",
       "</table>\n",
       "</div>"
      ],
      "text/plain": [
       "           Death Probability Male  Number of Lives Male  Life Expectancy Male  \\\n",
       "Exact Age                                                                       \n",
       "0                        0.006304                100000                 75.97   \n",
       "1                        0.000426                 99370                 75.45   \n",
       "2                        0.000290                 99327                 74.48   \n",
       "3                        0.000229                 99298                 73.50   \n",
       "4                        0.000162                 99276                 72.52   \n",
       "\n",
       "           Death Probability Female  Number of Lives Female  \\\n",
       "Exact Age                                                     \n",
       "0                          0.005229                  100000   \n",
       "1                          0.000342                   99477   \n",
       "2                          0.000209                   99443   \n",
       "3                          0.000162                   99422   \n",
       "4                          0.000143                   99406   \n",
       "\n",
       "           Life Expectancy Female  \n",
       "Exact Age                          \n",
       "0                           80.96  \n",
       "1                           80.39  \n",
       "2                           79.42  \n",
       "3                           78.43  \n",
       "4                           77.45  "
      ]
     },
     "execution_count": 7,
     "metadata": {},
     "output_type": "execute_result"
    }
   ],
   "source": [
    "mortality_table.head()"
   ]
  },
  {
   "cell_type": "markdown",
   "metadata": {},
   "source": [
    "# Generate portfolio weights using pfg library"
   ]
  },
  {
   "cell_type": "code",
   "execution_count": 8,
   "metadata": {},
   "outputs": [],
   "source": [
    "imp.reload(pfg)\n",
    "weights_30_fm = pfg.WeightCalculator('fixed mix', 65, 119, gender='M',\n",
    "                               optional_dict={'equity proportion':.3, 'tontine proportion':0, 'n sim':1000}).target\n",
    "\n",
    "weights_60_fm = pfg.WeightCalculator('fixed mix', 65, 119, gender='M',\n",
    "                               optional_dict={'equity proportion':.6, 'tontine proportion':0, 'n sim':1000}).target\n",
    "\n",
    "weights_100_fm = pfg.WeightCalculator('fixed mix', 65, 119, gender='M',\n",
    "                               optional_dict={'equity proportion':1., 'tontine proportion':0, 'n sim':1000}).target\n",
    "\n",
    "weights_gp = pfg.WeightCalculator('glide path', 65, 119, gender='M',\n",
    "                               optional_dict={'equity proportion':1., 'tontine proportion of bond exposure':0,\n",
    "                                              'n sim':1000}).target"
   ]
  },
  {
   "cell_type": "markdown",
   "metadata": {},
   "source": [
    "# Load Realized Mortality\n",
    "\n",
    "* Here I use longevity tables I've already generated using the mortality table.  You don't necessarily need the mortality_table defined above, except if you want to incorporate that information into your strategy\n",
    "* For an individual who has access to a Tontine (one of the cases covered in this tutorial), you also need to specify a longevity table for the people in the tontine\n",
    "* longevity tables have the following properties: columns are age, rows are the scenario, values are integers, encoding number of people alive at the start of the specific year.  For instance, the first column is always 10000 in this example.  If there are no people remaining in the tontine, the number is coded to -1."
   ]
  },
  {
   "cell_type": "code",
   "execution_count": 9,
   "metadata": {},
   "outputs": [],
   "source": [
    "death_table = pd.read_csv('CRRA_dt_runs/r_zero_runs/longevity_table_n_1.csv')\n",
    "death_table.columns = [int(col) for col in death_table.columns]"
   ]
  },
  {
   "cell_type": "code",
   "execution_count": 10,
   "metadata": {},
   "outputs": [],
   "source": [
    "tontine_table = pd.read_csv('CRRA_dt_runs/r_zero_runs/longevity_table_n_10000.csv')\n",
    "tontine_table.columns = [int(col) for col in death_table.columns]"
   ]
  },
  {
   "cell_type": "markdown",
   "metadata": {},
   "source": [
    "# Set Basic Parameters (v2)\n",
    "\n",
    "* female_ind = 0: one can specify if people are male or female, is used in conjunction with the mortality_table to calculate probability of death\n",
    "* w_0: amount of capital person starts with at the beginning of retirement\n",
    "* start_of_annuity: optional argument, specifies beginning of annuity, assuming you assume the participant uses one\n",
    "* annuity_info: prop: proportion of money paid into annuity paid out yearly (in real terms), second argument: amount of original capital placed into annuity (as a proportion)"
   ]
  },
  {
   "cell_type": "code",
   "execution_count": 11,
   "metadata": {},
   "outputs": [],
   "source": [
    "female_ind= 0\n",
    "#age_0 = 65\n",
    "w_0 = 1000000\n",
    "start_of_annuity = 80\n",
    "prop = .183/(1.02**15)\n",
    "#prop = .183\n",
    "annuity_info = (prop, 1/((start_of_annuity - age_0)*prop + 1))"
   ]
  },
  {
   "cell_type": "code",
   "execution_count": 12,
   "metadata": {},
   "outputs": [
    {
     "data": {
      "text/plain": [
       "Index(['US Equities', 'EAFE Equities', 'EM Equities', 'Leveraged Treasuries',\n",
       "       'Corp Bonds', 'TIPS(backfilled)', 'Real Estate', 'TSMOMPos', 'T-bill'],\n",
       "      dtype='object')"
      ]
     },
     "execution_count": 12,
     "metadata": {},
     "output_type": "execute_result"
    }
   ],
   "source": [
    "asset_names"
   ]
  },
  {
   "cell_type": "code",
   "execution_count": 13,
   "metadata": {},
   "outputs": [],
   "source": [
    "dist =  gbm_dist #two_regime_scenarios #gbm_dist "
   ]
  },
  {
   "cell_type": "markdown",
   "metadata": {},
   "source": [
    "# Since everything is calculated in real terms, I set my inflation matrix to be zero, but if you want to do everything in nominal terms, just adjust the return generating function, and generate a different inflation matrix inf_mat "
   ]
  },
  {
   "cell_type": "code",
   "execution_count": 14,
   "metadata": {},
   "outputs": [],
   "source": [
    "inf_mat = np.zeros((n_scen, 55))"
   ]
  },
  {
   "cell_type": "markdown",
   "metadata": {},
   "source": [
    "# This will run a strategy with a person, but the individualWithTontine class can handle whatever strategy you want for an individual, with access to a yearly tontine.  I.e the person puts in money and at the end of the year, anyone who is alive receives 1/number of survivers of the money paid in\n",
    "\n",
    "In order to run the code, you needs to specify a strategy dictionary, then call the .run_strat method.  The dictionary needs the following\n",
    "\n",
    "d['Strategy Type']: 3 arguments, first is the name of the strategy, the second indicates the prescence of an annuity, the third allows you to overlay options strategies\n",
    "You also need to fill out the ['Strategy_Specification'] value.  Please ask me questions if you are unsure about the library"
   ]
  },
  {
   "cell_type": "code",
   "execution_count": 15,
   "metadata": {},
   "outputs": [
    {
     "name": "stdout",
     "output_type": "stream",
     "text": [
      "Beginning Run\n",
      "Fixed Mix 30-70\n",
      "Beginning Run\n",
      "Fixed Mix 60-40\n",
      "Beginning Run\n",
      "Fixed Mix 100\n",
      "Beginning Run\n",
      "Glide Path\n"
     ]
    }
   ],
   "source": [
    "imp.reload(indton)\n",
    "names = ['Fixed Mix 30-70', 'Fixed Mix 60-40', 'Fixed Mix 100', 'Glide Path']\n",
    "targets = [weights_30_fm, weights_60_fm, weights_100_fm, weights_gp]\n",
    "\n",
    "test_individual = indton.individualWithTontine(death_table, tontine_table, dist, inf_mat, w_0, age_0, female_ind)\n",
    "\n",
    "\n",
    "for i in range(len(names)):\n",
    "    d = sdc.create_options_dict(targets[i], names[i])\n",
    "    d['Strategy Type'] = ['twr_harmonic', 'annuity', None]\n",
    "    d['Strategy Specification']['twr'] = .044\n",
    "    d['Strategy Specification']['start_of_annuity'] = 80\n",
    "    d['Strategy Specification']['amount_placed_in_annuity'] = annuity_info[1]\n",
    "    d['Strategy Specification']['annuity_payout'] = prop\n",
    "    test_individual.run_strat(d)"
   ]
  },
  {
   "cell_type": "markdown",
   "metadata": {},
   "source": [
    "## Call the stack_tables method and you get a set of summary statistics"
   ]
  },
  {
   "cell_type": "code",
   "execution_count": 16,
   "metadata": {},
   "outputs": [
    {
     "data": {
      "text/html": [
       "<div>\n",
       "<style scoped>\n",
       "    .dataframe tbody tr th:only-of-type {\n",
       "        vertical-align: middle;\n",
       "    }\n",
       "\n",
       "    .dataframe tbody tr th {\n",
       "        vertical-align: top;\n",
       "    }\n",
       "\n",
       "    .dataframe thead th {\n",
       "        text-align: right;\n",
       "    }\n",
       "</style>\n",
       "<table border=\"1\" class=\"dataframe\">\n",
       "  <thead>\n",
       "    <tr style=\"text-align: right;\">\n",
       "      <th></th>\n",
       "      <th>Fixed Mix 30-70</th>\n",
       "      <th>Fixed Mix 60-40</th>\n",
       "      <th>Fixed Mix 100</th>\n",
       "      <th>Glide Path</th>\n",
       "    </tr>\n",
       "  </thead>\n",
       "  <tbody>\n",
       "    <tr>\n",
       "      <th>Average Utility</th>\n",
       "      <td>-9.913080e+42</td>\n",
       "      <td>-1.029178e+45</td>\n",
       "      <td>-1.115597e+50</td>\n",
       "      <td>-8.825260e+42</td>\n",
       "    </tr>\n",
       "    <tr>\n",
       "      <th>Certainty Equivalent</th>\n",
       "      <td>2.930519e-02</td>\n",
       "      <td>2.496995e-02</td>\n",
       "      <td>1.674158e-02</td>\n",
       "      <td>2.942289e-02</td>\n",
       "    </tr>\n",
       "    <tr>\n",
       "      <th>Median Wealth at Death</th>\n",
       "      <td>1.411292e+05</td>\n",
       "      <td>2.626757e+05</td>\n",
       "      <td>3.985581e+05</td>\n",
       "      <td>1.334383e+05</td>\n",
       "    </tr>\n",
       "    <tr>\n",
       "      <th>Median Wealth at Start of Annuity</th>\n",
       "      <td>7.473968e+04</td>\n",
       "      <td>1.583127e+05</td>\n",
       "      <td>2.530742e+05</td>\n",
       "      <td>7.236737e+04</td>\n",
       "    </tr>\n",
       "    <tr>\n",
       "      <th>Median Wealth at Death Cond Die Before Annuity</th>\n",
       "      <td>3.377087e+05</td>\n",
       "      <td>4.066027e+05</td>\n",
       "      <td>4.738939e+05</td>\n",
       "      <td>3.385109e+05</td>\n",
       "    </tr>\n",
       "    <tr>\n",
       "      <th>Prob Ruin</th>\n",
       "      <td>0.000000e+00</td>\n",
       "      <td>0.000000e+00</td>\n",
       "      <td>0.000000e+00</td>\n",
       "      <td>0.000000e+00</td>\n",
       "    </tr>\n",
       "    <tr>\n",
       "      <th>Prob Ruin Cond Live to 80</th>\n",
       "      <td>0.000000e+00</td>\n",
       "      <td>0.000000e+00</td>\n",
       "      <td>0.000000e+00</td>\n",
       "      <td>0.000000e+00</td>\n",
       "    </tr>\n",
       "    <tr>\n",
       "      <th>Prob Ruin Cond Live to 90</th>\n",
       "      <td>0.000000e+00</td>\n",
       "      <td>0.000000e+00</td>\n",
       "      <td>0.000000e+00</td>\n",
       "      <td>0.000000e+00</td>\n",
       "    </tr>\n",
       "    <tr>\n",
       "      <th>Prob Fails TWR 0.02</th>\n",
       "      <td>0.000000e+00</td>\n",
       "      <td>3.000000e-03</td>\n",
       "      <td>1.900000e-02</td>\n",
       "      <td>0.000000e+00</td>\n",
       "    </tr>\n",
       "    <tr>\n",
       "      <th>Prob Fails TWR 0.025</th>\n",
       "      <td>3.000000e-03</td>\n",
       "      <td>7.000000e-03</td>\n",
       "      <td>6.800000e-02</td>\n",
       "      <td>3.000000e-03</td>\n",
       "    </tr>\n",
       "    <tr>\n",
       "      <th>Prob Fails TWR 0.03</th>\n",
       "      <td>1.500000e-02</td>\n",
       "      <td>3.900000e-02</td>\n",
       "      <td>1.400000e-01</td>\n",
       "      <td>1.600000e-02</td>\n",
       "    </tr>\n",
       "    <tr>\n",
       "      <th>Prob Fails TWR 0.035</th>\n",
       "      <td>9.400000e-02</td>\n",
       "      <td>1.270000e-01</td>\n",
       "      <td>2.610000e-01</td>\n",
       "      <td>9.600000e-02</td>\n",
       "    </tr>\n",
       "    <tr>\n",
       "      <th>Prob Fails TWR 0.04</th>\n",
       "      <td>2.900000e-01</td>\n",
       "      <td>3.160000e-01</td>\n",
       "      <td>4.470000e-01</td>\n",
       "      <td>2.890000e-01</td>\n",
       "    </tr>\n",
       "    <tr>\n",
       "      <th>Prob Fails TWR 0.042</th>\n",
       "      <td>4.330000e-01</td>\n",
       "      <td>4.420000e-01</td>\n",
       "      <td>5.370000e-01</td>\n",
       "      <td>4.200000e-01</td>\n",
       "    </tr>\n",
       "    <tr>\n",
       "      <th>Prob Fails TWR 0.043</th>\n",
       "      <td>4.970000e-01</td>\n",
       "      <td>5.120000e-01</td>\n",
       "      <td>5.640000e-01</td>\n",
       "      <td>4.930000e-01</td>\n",
       "    </tr>\n",
       "    <tr>\n",
       "      <th>Prob Fails TWR 0.044</th>\n",
       "      <td>5.710000e-01</td>\n",
       "      <td>5.780000e-01</td>\n",
       "      <td>5.990000e-01</td>\n",
       "      <td>5.720000e-01</td>\n",
       "    </tr>\n",
       "    <tr>\n",
       "      <th>Prob Fails TWR 0.045</th>\n",
       "      <td>1.000000e+00</td>\n",
       "      <td>1.000000e+00</td>\n",
       "      <td>1.000000e+00</td>\n",
       "      <td>1.000000e+00</td>\n",
       "    </tr>\n",
       "    <tr>\n",
       "      <th>Prob Fails TWR 0.046</th>\n",
       "      <td>1.000000e+00</td>\n",
       "      <td>1.000000e+00</td>\n",
       "      <td>1.000000e+00</td>\n",
       "      <td>1.000000e+00</td>\n",
       "    </tr>\n",
       "    <tr>\n",
       "      <th>Prob Fails TWR 0.02 Cond Live to Annuity</th>\n",
       "      <td>0.000000e+00</td>\n",
       "      <td>3.134796e-03</td>\n",
       "      <td>2.037618e-02</td>\n",
       "      <td>0.000000e+00</td>\n",
       "    </tr>\n",
       "    <tr>\n",
       "      <th>Prob Fails TWR 0.025 Cond Live to Annuity</th>\n",
       "      <td>3.134796e-03</td>\n",
       "      <td>9.404389e-03</td>\n",
       "      <td>6.896552e-02</td>\n",
       "      <td>3.134796e-03</td>\n",
       "    </tr>\n",
       "    <tr>\n",
       "      <th>Prob Fails TWR 0.03 Cond Live to Annuity</th>\n",
       "      <td>2.194357e-02</td>\n",
       "      <td>4.388715e-02</td>\n",
       "      <td>1.551724e-01</td>\n",
       "      <td>2.351097e-02</td>\n",
       "    </tr>\n",
       "    <tr>\n",
       "      <th>Prob Fails TWR 0.035 Cond Live to Annuity</th>\n",
       "      <td>1.050157e-01</td>\n",
       "      <td>1.363636e-01</td>\n",
       "      <td>2.554859e-01</td>\n",
       "      <td>1.065831e-01</td>\n",
       "    </tr>\n",
       "    <tr>\n",
       "      <th>Prob Fails TWR 0.04 Cond Live to Annuity</th>\n",
       "      <td>3.134796e-01</td>\n",
       "      <td>3.213166e-01</td>\n",
       "      <td>4.482759e-01</td>\n",
       "      <td>3.072100e-01</td>\n",
       "    </tr>\n",
       "    <tr>\n",
       "      <th>Prob Fails TWR 0.042 Cond Live to Annuity</th>\n",
       "      <td>4.498433e-01</td>\n",
       "      <td>4.514107e-01</td>\n",
       "      <td>5.438871e-01</td>\n",
       "      <td>4.326019e-01</td>\n",
       "    </tr>\n",
       "    <tr>\n",
       "      <th>Prob Fails TWR 0.043 Cond Live to Annuity</th>\n",
       "      <td>5.109718e-01</td>\n",
       "      <td>5.125392e-01</td>\n",
       "      <td>5.689655e-01</td>\n",
       "      <td>5.062696e-01</td>\n",
       "    </tr>\n",
       "    <tr>\n",
       "      <th>Prob Fails TWR 0.044 Cond Live to Annuity</th>\n",
       "      <td>5.783699e-01</td>\n",
       "      <td>5.799373e-01</td>\n",
       "      <td>6.065831e-01</td>\n",
       "      <td>5.783699e-01</td>\n",
       "    </tr>\n",
       "    <tr>\n",
       "      <th>Prob Fails TWR 0.045 Cond Live to Annuity</th>\n",
       "      <td>1.000000e+00</td>\n",
       "      <td>1.000000e+00</td>\n",
       "      <td>1.000000e+00</td>\n",
       "      <td>1.000000e+00</td>\n",
       "    </tr>\n",
       "    <tr>\n",
       "      <th>Prob Fails TWR 0.046 Cond Live to Annuity</th>\n",
       "      <td>1.000000e+00</td>\n",
       "      <td>1.000000e+00</td>\n",
       "      <td>1.000000e+00</td>\n",
       "      <td>1.000000e+00</td>\n",
       "    </tr>\n",
       "  </tbody>\n",
       "</table>\n",
       "</div>"
      ],
      "text/plain": [
       "                                                Fixed Mix 30-70  \\\n",
       "Average Utility                                   -9.913080e+42   \n",
       "Certainty Equivalent                               2.930519e-02   \n",
       "Median Wealth at Death                             1.411292e+05   \n",
       "Median Wealth at Start of Annuity                  7.473968e+04   \n",
       "Median Wealth at Death Cond Die Before Annuity     3.377087e+05   \n",
       "Prob Ruin                                          0.000000e+00   \n",
       "Prob Ruin Cond Live to 80                          0.000000e+00   \n",
       "Prob Ruin Cond Live to 90                          0.000000e+00   \n",
       "Prob Fails TWR 0.02                                0.000000e+00   \n",
       "Prob Fails TWR 0.025                               3.000000e-03   \n",
       "Prob Fails TWR 0.03                                1.500000e-02   \n",
       "Prob Fails TWR 0.035                               9.400000e-02   \n",
       "Prob Fails TWR 0.04                                2.900000e-01   \n",
       "Prob Fails TWR 0.042                               4.330000e-01   \n",
       "Prob Fails TWR 0.043                               4.970000e-01   \n",
       "Prob Fails TWR 0.044                               5.710000e-01   \n",
       "Prob Fails TWR 0.045                               1.000000e+00   \n",
       "Prob Fails TWR 0.046                               1.000000e+00   \n",
       "Prob Fails TWR 0.02 Cond Live to Annuity           0.000000e+00   \n",
       "Prob Fails TWR 0.025 Cond Live to Annuity          3.134796e-03   \n",
       "Prob Fails TWR 0.03 Cond Live to Annuity           2.194357e-02   \n",
       "Prob Fails TWR 0.035 Cond Live to Annuity          1.050157e-01   \n",
       "Prob Fails TWR 0.04 Cond Live to Annuity           3.134796e-01   \n",
       "Prob Fails TWR 0.042 Cond Live to Annuity          4.498433e-01   \n",
       "Prob Fails TWR 0.043 Cond Live to Annuity          5.109718e-01   \n",
       "Prob Fails TWR 0.044 Cond Live to Annuity          5.783699e-01   \n",
       "Prob Fails TWR 0.045 Cond Live to Annuity          1.000000e+00   \n",
       "Prob Fails TWR 0.046 Cond Live to Annuity          1.000000e+00   \n",
       "\n",
       "                                                Fixed Mix 60-40  \\\n",
       "Average Utility                                   -1.029178e+45   \n",
       "Certainty Equivalent                               2.496995e-02   \n",
       "Median Wealth at Death                             2.626757e+05   \n",
       "Median Wealth at Start of Annuity                  1.583127e+05   \n",
       "Median Wealth at Death Cond Die Before Annuity     4.066027e+05   \n",
       "Prob Ruin                                          0.000000e+00   \n",
       "Prob Ruin Cond Live to 80                          0.000000e+00   \n",
       "Prob Ruin Cond Live to 90                          0.000000e+00   \n",
       "Prob Fails TWR 0.02                                3.000000e-03   \n",
       "Prob Fails TWR 0.025                               7.000000e-03   \n",
       "Prob Fails TWR 0.03                                3.900000e-02   \n",
       "Prob Fails TWR 0.035                               1.270000e-01   \n",
       "Prob Fails TWR 0.04                                3.160000e-01   \n",
       "Prob Fails TWR 0.042                               4.420000e-01   \n",
       "Prob Fails TWR 0.043                               5.120000e-01   \n",
       "Prob Fails TWR 0.044                               5.780000e-01   \n",
       "Prob Fails TWR 0.045                               1.000000e+00   \n",
       "Prob Fails TWR 0.046                               1.000000e+00   \n",
       "Prob Fails TWR 0.02 Cond Live to Annuity           3.134796e-03   \n",
       "Prob Fails TWR 0.025 Cond Live to Annuity          9.404389e-03   \n",
       "Prob Fails TWR 0.03 Cond Live to Annuity           4.388715e-02   \n",
       "Prob Fails TWR 0.035 Cond Live to Annuity          1.363636e-01   \n",
       "Prob Fails TWR 0.04 Cond Live to Annuity           3.213166e-01   \n",
       "Prob Fails TWR 0.042 Cond Live to Annuity          4.514107e-01   \n",
       "Prob Fails TWR 0.043 Cond Live to Annuity          5.125392e-01   \n",
       "Prob Fails TWR 0.044 Cond Live to Annuity          5.799373e-01   \n",
       "Prob Fails TWR 0.045 Cond Live to Annuity          1.000000e+00   \n",
       "Prob Fails TWR 0.046 Cond Live to Annuity          1.000000e+00   \n",
       "\n",
       "                                                Fixed Mix 100    Glide Path  \n",
       "Average Utility                                 -1.115597e+50 -8.825260e+42  \n",
       "Certainty Equivalent                             1.674158e-02  2.942289e-02  \n",
       "Median Wealth at Death                           3.985581e+05  1.334383e+05  \n",
       "Median Wealth at Start of Annuity                2.530742e+05  7.236737e+04  \n",
       "Median Wealth at Death Cond Die Before Annuity   4.738939e+05  3.385109e+05  \n",
       "Prob Ruin                                        0.000000e+00  0.000000e+00  \n",
       "Prob Ruin Cond Live to 80                        0.000000e+00  0.000000e+00  \n",
       "Prob Ruin Cond Live to 90                        0.000000e+00  0.000000e+00  \n",
       "Prob Fails TWR 0.02                              1.900000e-02  0.000000e+00  \n",
       "Prob Fails TWR 0.025                             6.800000e-02  3.000000e-03  \n",
       "Prob Fails TWR 0.03                              1.400000e-01  1.600000e-02  \n",
       "Prob Fails TWR 0.035                             2.610000e-01  9.600000e-02  \n",
       "Prob Fails TWR 0.04                              4.470000e-01  2.890000e-01  \n",
       "Prob Fails TWR 0.042                             5.370000e-01  4.200000e-01  \n",
       "Prob Fails TWR 0.043                             5.640000e-01  4.930000e-01  \n",
       "Prob Fails TWR 0.044                             5.990000e-01  5.720000e-01  \n",
       "Prob Fails TWR 0.045                             1.000000e+00  1.000000e+00  \n",
       "Prob Fails TWR 0.046                             1.000000e+00  1.000000e+00  \n",
       "Prob Fails TWR 0.02 Cond Live to Annuity         2.037618e-02  0.000000e+00  \n",
       "Prob Fails TWR 0.025 Cond Live to Annuity        6.896552e-02  3.134796e-03  \n",
       "Prob Fails TWR 0.03 Cond Live to Annuity         1.551724e-01  2.351097e-02  \n",
       "Prob Fails TWR 0.035 Cond Live to Annuity        2.554859e-01  1.065831e-01  \n",
       "Prob Fails TWR 0.04 Cond Live to Annuity         4.482759e-01  3.072100e-01  \n",
       "Prob Fails TWR 0.042 Cond Live to Annuity        5.438871e-01  4.326019e-01  \n",
       "Prob Fails TWR 0.043 Cond Live to Annuity        5.689655e-01  5.062696e-01  \n",
       "Prob Fails TWR 0.044 Cond Live to Annuity        6.065831e-01  5.783699e-01  \n",
       "Prob Fails TWR 0.045 Cond Live to Annuity        1.000000e+00  1.000000e+00  \n",
       "Prob Fails TWR 0.046 Cond Live to Annuity        1.000000e+00  1.000000e+00  "
      ]
     },
     "execution_count": 16,
     "metadata": {},
     "output_type": "execute_result"
    }
   ],
   "source": [
    "test_individual.stack_tables(names)"
   ]
  },
  {
   "cell_type": "markdown",
   "metadata": {},
   "source": [
    "# Lastly, one can easily write the table to a latex table (for easy copy / paste into a overleaf document)"
   ]
  },
  {
   "cell_type": "code",
   "execution_count": 17,
   "metadata": {},
   "outputs": [],
   "source": [
    "#lf.write_table_fixed(test_individual.stack_tables(names), 'Path/To/Where/You/Save/filename.csv'\n",
    "#                    'Title of Table', roundNumber=how many decimals you want to keep in your table)"
   ]
  },
  {
   "cell_type": "markdown",
   "metadata": {},
   "source": [
    "# Let's also run a sample tontine analysis\n",
    "\n",
    "you'll want to use tonclass.TONTINECLASS\n",
    " * first argument: longevity_table\n",
    " * second argument, dt_table: this specifies calculates the payout as a function of every dollar invested\n",
    " * third argument: dt_table: is the return information\n",
    " * inf_mat: inflation matrix\n",
    " * w_0: amount of money placed into the tontine by each person\n",
    " * gamma: longevity risk aversion parameter"
   ]
  },
  {
   "cell_type": "code",
   "execution_count": 18,
   "metadata": {},
   "outputs": [],
   "source": [
    "dt_table = pd.read_csv('CRRA_dt_runs/r_zero_runs/dt_table_n_10000_gamma_30.csv')\n",
    "dt_table.columns = [int(col) for col in dt_table.columns]"
   ]
  },
  {
   "cell_type": "code",
   "execution_count": 19,
   "metadata": {},
   "outputs": [
    {
     "data": {
      "text/plain": [
       "['Fixed Mix 30-70', 'Fixed Mix 60-40', 'Fixed Mix 100', 'Glide Path']"
      ]
     },
     "execution_count": 19,
     "metadata": {},
     "output_type": "execute_result"
    }
   ],
   "source": [
    "names"
   ]
  },
  {
   "cell_type": "code",
   "execution_count": 20,
   "metadata": {},
   "outputs": [],
   "source": [
    "targets_2 = targets.copy()"
   ]
  },
  {
   "cell_type": "code",
   "execution_count": 21,
   "metadata": {},
   "outputs": [],
   "source": [
    "for i in range(len(targets_2)):\n",
    "    targets_2[i] = targets_2[i][:,0:9,0].copy()"
   ]
  },
  {
   "cell_type": "markdown",
   "metadata": {},
   "source": [
    "## Unlike before, the targets numpy array that controls the asset allcation (of the money placed into the tontine) is a (55,9) array (not three dimensional in the case of an individual)"
   ]
  },
  {
   "cell_type": "code",
   "execution_count": 22,
   "metadata": {},
   "outputs": [
    {
     "data": {
      "text/plain": [
       "(55, 9)"
      ]
     },
     "execution_count": 22,
     "metadata": {},
     "output_type": "execute_result"
    }
   ],
   "source": [
    "targets_2[0].shape"
   ]
  },
  {
   "cell_type": "code",
   "execution_count": 23,
   "metadata": {},
   "outputs": [
    {
     "name": "stdout",
     "output_type": "stream",
     "text": [
      "Beginning Run\n",
      "Fixed Mix 30-70\n",
      "Beginning Run\n",
      "Fixed Mix 60-40\n",
      "Beginning Run\n",
      "Fixed Mix 100\n",
      "Beginning Run\n",
      "Glide Path\n"
     ]
    }
   ],
   "source": [
    "imp.reload(tonclass)\n",
    "gamma = 30\n",
    "tontine_example = tonclass.TONTINECLASS(tontine_table, dt_table,\n",
    "                                        gbm_dist, inf_mat, w_0, age_0, gamma=gamma)\n",
    "\n",
    "for i in range(len(names)):\n",
    "    d = sdc.create_options_dict(targets_2[i], names[i])\n",
    "    d['Strategy Type'] = ['crra', 'no annuity', None]\n",
    "    tontine_example.run_strat(d)"
   ]
  },
  {
   "cell_type": "code",
   "execution_count": 24,
   "metadata": {},
   "outputs": [],
   "source": [
    "tontine_example.stack_tables(names)"
   ]
  },
  {
   "cell_type": "code",
   "execution_count": 25,
   "metadata": {},
   "outputs": [
    {
     "data": {
      "text/html": [
       "<div>\n",
       "<style scoped>\n",
       "    .dataframe tbody tr th:only-of-type {\n",
       "        vertical-align: middle;\n",
       "    }\n",
       "\n",
       "    .dataframe tbody tr th {\n",
       "        vertical-align: top;\n",
       "    }\n",
       "\n",
       "    .dataframe thead th {\n",
       "        text-align: right;\n",
       "    }\n",
       "</style>\n",
       "<table border=\"1\" class=\"dataframe\">\n",
       "  <thead>\n",
       "    <tr style=\"text-align: right;\">\n",
       "      <th></th>\n",
       "      <th>Fixed Mix 30-70</th>\n",
       "      <th>Fixed Mix 60-40</th>\n",
       "      <th>Fixed Mix 100</th>\n",
       "      <th>Glide Path</th>\n",
       "    </tr>\n",
       "  </thead>\n",
       "  <tbody>\n",
       "    <tr>\n",
       "      <th>Average Utility</th>\n",
       "      <td>-3.389500e+42</td>\n",
       "      <td>-7.130697e+42</td>\n",
       "      <td>-5.333235e+51</td>\n",
       "      <td>-3.363814e+42</td>\n",
       "    </tr>\n",
       "    <tr>\n",
       "      <th>Certainty Equivalent</th>\n",
       "      <td>3.040998e-02</td>\n",
       "      <td>2.964001e-02</td>\n",
       "      <td>1.465154e-02</td>\n",
       "      <td>3.041795e-02</td>\n",
       "    </tr>\n",
       "    <tr>\n",
       "      <th>Per Dollar Wealth Remaining At End of Tontine</th>\n",
       "      <td>4.651581e-04</td>\n",
       "      <td>8.965052e-04</td>\n",
       "      <td>2.101828e-03</td>\n",
       "      <td>3.285797e-04</td>\n",
       "    </tr>\n",
       "    <tr>\n",
       "      <th>Median Wealth at Start of Annuity</th>\n",
       "      <td>0.000000e+00</td>\n",
       "      <td>0.000000e+00</td>\n",
       "      <td>0.000000e+00</td>\n",
       "      <td>0.000000e+00</td>\n",
       "    </tr>\n",
       "    <tr>\n",
       "      <th>Median Wealth at Death Cond Die Before Annuity</th>\n",
       "      <td>0.000000e+00</td>\n",
       "      <td>0.000000e+00</td>\n",
       "      <td>0.000000e+00</td>\n",
       "      <td>0.000000e+00</td>\n",
       "    </tr>\n",
       "    <tr>\n",
       "      <th>Prob Ruin</th>\n",
       "      <td>0.000000e+00</td>\n",
       "      <td>0.000000e+00</td>\n",
       "      <td>0.000000e+00</td>\n",
       "      <td>0.000000e+00</td>\n",
       "    </tr>\n",
       "    <tr>\n",
       "      <th>Prob Ruin Cond Live to 80</th>\n",
       "      <td>0.000000e+00</td>\n",
       "      <td>0.000000e+00</td>\n",
       "      <td>0.000000e+00</td>\n",
       "      <td>0.000000e+00</td>\n",
       "    </tr>\n",
       "    <tr>\n",
       "      <th>Prob Ruin Cond Live to 90</th>\n",
       "      <td>0.000000e+00</td>\n",
       "      <td>0.000000e+00</td>\n",
       "      <td>0.000000e+00</td>\n",
       "      <td>0.000000e+00</td>\n",
       "    </tr>\n",
       "    <tr>\n",
       "      <th>Prob Fails TWR 0.02</th>\n",
       "      <td>0.000000e+00</td>\n",
       "      <td>3.800000e-05</td>\n",
       "      <td>1.212810e-02</td>\n",
       "      <td>1.340000e-05</td>\n",
       "    </tr>\n",
       "    <tr>\n",
       "      <th>Prob Fails TWR 0.025</th>\n",
       "      <td>7.278000e-04</td>\n",
       "      <td>3.060300e-03</td>\n",
       "      <td>3.901800e-02</td>\n",
       "      <td>1.805700e-03</td>\n",
       "    </tr>\n",
       "    <tr>\n",
       "      <th>Prob Fails TWR 0.03</th>\n",
       "      <td>6.396500e-03</td>\n",
       "      <td>1.234440e-02</td>\n",
       "      <td>8.649700e-02</td>\n",
       "      <td>9.174200e-03</td>\n",
       "    </tr>\n",
       "    <tr>\n",
       "      <th>Prob Fails TWR 0.035</th>\n",
       "      <td>2.449840e-02</td>\n",
       "      <td>4.171460e-02</td>\n",
       "      <td>1.547477e-01</td>\n",
       "      <td>3.011050e-02</td>\n",
       "    </tr>\n",
       "    <tr>\n",
       "      <th>Prob Fails TWR 0.04</th>\n",
       "      <td>8.194360e-02</td>\n",
       "      <td>1.104929e-01</td>\n",
       "      <td>2.467401e-01</td>\n",
       "      <td>8.902670e-02</td>\n",
       "    </tr>\n",
       "    <tr>\n",
       "      <th>Prob Fails TWR 0.045</th>\n",
       "      <td>2.100197e-01</td>\n",
       "      <td>2.352156e-01</td>\n",
       "      <td>3.778496e-01</td>\n",
       "      <td>2.201336e-01</td>\n",
       "    </tr>\n",
       "    <tr>\n",
       "      <th>Prob Fails TWR 0.049</th>\n",
       "      <td>3.809878e-01</td>\n",
       "      <td>3.944449e-01</td>\n",
       "      <td>5.247568e-01</td>\n",
       "      <td>3.903214e-01</td>\n",
       "    </tr>\n",
       "    <tr>\n",
       "      <th>Prob Fails TWR 0.02 Cond Live to Annuity</th>\n",
       "      <td>0.000000e+00</td>\n",
       "      <td>0.000000e+00</td>\n",
       "      <td>0.000000e+00</td>\n",
       "      <td>0.000000e+00</td>\n",
       "    </tr>\n",
       "    <tr>\n",
       "      <th>Prob Fails TWR 0.025 Cond Live to Annuity</th>\n",
       "      <td>0.000000e+00</td>\n",
       "      <td>0.000000e+00</td>\n",
       "      <td>0.000000e+00</td>\n",
       "      <td>0.000000e+00</td>\n",
       "    </tr>\n",
       "    <tr>\n",
       "      <th>Prob Fails TWR 0.03 Cond Live to Annuity</th>\n",
       "      <td>0.000000e+00</td>\n",
       "      <td>0.000000e+00</td>\n",
       "      <td>0.000000e+00</td>\n",
       "      <td>0.000000e+00</td>\n",
       "    </tr>\n",
       "    <tr>\n",
       "      <th>Prob Fails TWR 0.035 Cond Live to Annuity</th>\n",
       "      <td>0.000000e+00</td>\n",
       "      <td>0.000000e+00</td>\n",
       "      <td>0.000000e+00</td>\n",
       "      <td>0.000000e+00</td>\n",
       "    </tr>\n",
       "    <tr>\n",
       "      <th>Prob Fails TWR 0.04 Cond Live to Annuity</th>\n",
       "      <td>0.000000e+00</td>\n",
       "      <td>0.000000e+00</td>\n",
       "      <td>0.000000e+00</td>\n",
       "      <td>0.000000e+00</td>\n",
       "    </tr>\n",
       "    <tr>\n",
       "      <th>Prob Fails TWR 0.045 Cond Live to Annuity</th>\n",
       "      <td>0.000000e+00</td>\n",
       "      <td>0.000000e+00</td>\n",
       "      <td>0.000000e+00</td>\n",
       "      <td>0.000000e+00</td>\n",
       "    </tr>\n",
       "    <tr>\n",
       "      <th>Prob Fails TWR 0.049 Cond Live to Annuity</th>\n",
       "      <td>0.000000e+00</td>\n",
       "      <td>0.000000e+00</td>\n",
       "      <td>0.000000e+00</td>\n",
       "      <td>0.000000e+00</td>\n",
       "    </tr>\n",
       "  </tbody>\n",
       "</table>\n",
       "</div>"
      ],
      "text/plain": [
       "                                                Fixed Mix 30-70  \\\n",
       "Average Utility                                   -3.389500e+42   \n",
       "Certainty Equivalent                               3.040998e-02   \n",
       "Per Dollar Wealth Remaining At End of Tontine      4.651581e-04   \n",
       "Median Wealth at Start of Annuity                  0.000000e+00   \n",
       "Median Wealth at Death Cond Die Before Annuity     0.000000e+00   \n",
       "Prob Ruin                                          0.000000e+00   \n",
       "Prob Ruin Cond Live to 80                          0.000000e+00   \n",
       "Prob Ruin Cond Live to 90                          0.000000e+00   \n",
       "Prob Fails TWR 0.02                                0.000000e+00   \n",
       "Prob Fails TWR 0.025                               7.278000e-04   \n",
       "Prob Fails TWR 0.03                                6.396500e-03   \n",
       "Prob Fails TWR 0.035                               2.449840e-02   \n",
       "Prob Fails TWR 0.04                                8.194360e-02   \n",
       "Prob Fails TWR 0.045                               2.100197e-01   \n",
       "Prob Fails TWR 0.049                               3.809878e-01   \n",
       "Prob Fails TWR 0.02 Cond Live to Annuity           0.000000e+00   \n",
       "Prob Fails TWR 0.025 Cond Live to Annuity          0.000000e+00   \n",
       "Prob Fails TWR 0.03 Cond Live to Annuity           0.000000e+00   \n",
       "Prob Fails TWR 0.035 Cond Live to Annuity          0.000000e+00   \n",
       "Prob Fails TWR 0.04 Cond Live to Annuity           0.000000e+00   \n",
       "Prob Fails TWR 0.045 Cond Live to Annuity          0.000000e+00   \n",
       "Prob Fails TWR 0.049 Cond Live to Annuity          0.000000e+00   \n",
       "\n",
       "                                                Fixed Mix 60-40  \\\n",
       "Average Utility                                   -7.130697e+42   \n",
       "Certainty Equivalent                               2.964001e-02   \n",
       "Per Dollar Wealth Remaining At End of Tontine      8.965052e-04   \n",
       "Median Wealth at Start of Annuity                  0.000000e+00   \n",
       "Median Wealth at Death Cond Die Before Annuity     0.000000e+00   \n",
       "Prob Ruin                                          0.000000e+00   \n",
       "Prob Ruin Cond Live to 80                          0.000000e+00   \n",
       "Prob Ruin Cond Live to 90                          0.000000e+00   \n",
       "Prob Fails TWR 0.02                                3.800000e-05   \n",
       "Prob Fails TWR 0.025                               3.060300e-03   \n",
       "Prob Fails TWR 0.03                                1.234440e-02   \n",
       "Prob Fails TWR 0.035                               4.171460e-02   \n",
       "Prob Fails TWR 0.04                                1.104929e-01   \n",
       "Prob Fails TWR 0.045                               2.352156e-01   \n",
       "Prob Fails TWR 0.049                               3.944449e-01   \n",
       "Prob Fails TWR 0.02 Cond Live to Annuity           0.000000e+00   \n",
       "Prob Fails TWR 0.025 Cond Live to Annuity          0.000000e+00   \n",
       "Prob Fails TWR 0.03 Cond Live to Annuity           0.000000e+00   \n",
       "Prob Fails TWR 0.035 Cond Live to Annuity          0.000000e+00   \n",
       "Prob Fails TWR 0.04 Cond Live to Annuity           0.000000e+00   \n",
       "Prob Fails TWR 0.045 Cond Live to Annuity          0.000000e+00   \n",
       "Prob Fails TWR 0.049 Cond Live to Annuity          0.000000e+00   \n",
       "\n",
       "                                                Fixed Mix 100    Glide Path  \n",
       "Average Utility                                 -5.333235e+51 -3.363814e+42  \n",
       "Certainty Equivalent                             1.465154e-02  3.041795e-02  \n",
       "Per Dollar Wealth Remaining At End of Tontine    2.101828e-03  3.285797e-04  \n",
       "Median Wealth at Start of Annuity                0.000000e+00  0.000000e+00  \n",
       "Median Wealth at Death Cond Die Before Annuity   0.000000e+00  0.000000e+00  \n",
       "Prob Ruin                                        0.000000e+00  0.000000e+00  \n",
       "Prob Ruin Cond Live to 80                        0.000000e+00  0.000000e+00  \n",
       "Prob Ruin Cond Live to 90                        0.000000e+00  0.000000e+00  \n",
       "Prob Fails TWR 0.02                              1.212810e-02  1.340000e-05  \n",
       "Prob Fails TWR 0.025                             3.901800e-02  1.805700e-03  \n",
       "Prob Fails TWR 0.03                              8.649700e-02  9.174200e-03  \n",
       "Prob Fails TWR 0.035                             1.547477e-01  3.011050e-02  \n",
       "Prob Fails TWR 0.04                              2.467401e-01  8.902670e-02  \n",
       "Prob Fails TWR 0.045                             3.778496e-01  2.201336e-01  \n",
       "Prob Fails TWR 0.049                             5.247568e-01  3.903214e-01  \n",
       "Prob Fails TWR 0.02 Cond Live to Annuity         0.000000e+00  0.000000e+00  \n",
       "Prob Fails TWR 0.025 Cond Live to Annuity        0.000000e+00  0.000000e+00  \n",
       "Prob Fails TWR 0.03 Cond Live to Annuity         0.000000e+00  0.000000e+00  \n",
       "Prob Fails TWR 0.035 Cond Live to Annuity        0.000000e+00  0.000000e+00  \n",
       "Prob Fails TWR 0.04 Cond Live to Annuity         0.000000e+00  0.000000e+00  \n",
       "Prob Fails TWR 0.045 Cond Live to Annuity        0.000000e+00  0.000000e+00  \n",
       "Prob Fails TWR 0.049 Cond Live to Annuity        0.000000e+00  0.000000e+00  "
      ]
     },
     "execution_count": 25,
     "metadata": {},
     "output_type": "execute_result"
    }
   ],
   "source": [
    "tontine_example.performance_table"
   ]
  },
  {
   "cell_type": "markdown",
   "metadata": {},
   "source": [
    "# Now let's talk briefly about how to generate longevity tables and dt tables, below is sample code to calculate the dt_table (the payouts at each age dependent on the number of people, expressed as a proportion) and how to calculate the longevity_table"
   ]
  },
  {
   "cell_type": "code",
   "execution_count": 26,
   "metadata": {},
   "outputs": [],
   "source": [
    "#longevity_table = efton.longevity_to_survivors(nscen,mortality_table, 1, age_0, n_in_tontine)\n",
    "#dt_table = efton.calculate_dt_over_time(longevity_table, age_0, .0159, gamma, mortality_table, gender='M')"
   ]
  }
 ],
 "metadata": {
  "kernelspec": {
   "display_name": "Python 3",
   "language": "python",
   "name": "python3"
  },
  "language_info": {
   "codemirror_mode": {
    "name": "ipython",
    "version": 3
   },
   "file_extension": ".py",
   "mimetype": "text/x-python",
   "name": "python",
   "nbconvert_exporter": "python",
   "pygments_lexer": "ipython3",
   "version": "3.8.5"
  }
 },
 "nbformat": 4,
 "nbformat_minor": 4
}
